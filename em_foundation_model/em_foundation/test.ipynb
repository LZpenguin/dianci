{
 "cells": [
  {
   "cell_type": "code",
   "execution_count": null,
   "id": "d8bb5720",
   "metadata": {},
   "outputs": [],
   "source": [
    "import os\n",
    "os.environ['CUDA_VISIBLE_DEVICES'] = '4'\n",
    "from train_mllm import *\n",
    "from transformers import AutoTokenizer, AutoModelForCausalLM\n",
    "import torch\n",
    "import pandas as pd\n",
    "import os\n",
    "import sys\n",
    "\n",
    "llm_model_path = '/mnt/gold/lz/competitions/dianci/em_foundation_model/9G4B'\n",
    "signal_encoder_path = '/mnt/gold/lz/competitions/dianci/em_foundation_model/em_foundation/weight'\n",
    "device = 'cuda'\n",
    "task_dir = '/mnt/gold/lz/competitions/dianci/data/competition_test_data_1'\n",
    "max_length = 2048"
   ]
  },
  {
   "cell_type": "code",
   "execution_count": null,
   "id": "13d0da94",
   "metadata": {},
   "outputs": [],
   "source": [
    "tokenizer = AutoTokenizer.from_pretrained(\n",
    "    llm_model_path,\n",
    "    use_fast=False,\n",
    "    trust_remote_code=True\n",
    ")\n",
    "tokenizer.add_special_tokens({\n",
    "    \"additional_special_tokens\": [\"<IQ_START>\", \"<IQ_END>\"]\n",
    "})\n",
    "if tokenizer.pad_token_id is None:\n",
    "    tokenizer.pad_token_id = tokenizer.eos_token_id\n",
    "llm = AutoModelForCausalLM.from_pretrained(\n",
    "    llm_model_path,\n",
    "    trust_remote_code=True,\n",
    "    torch_dtype=torch.float16,\n",
    ").to(device)\n",
    "llm.resize_token_embeddings(len(tokenizer))"
   ]
  },
  {
   "cell_type": "code",
   "execution_count": null,
   "id": "731973c3",
   "metadata": {},
   "outputs": [],
   "source": [
    "em_config = SiTMAEConfig(\n",
    "    max_seq_len=(4096,1),\n",
    "    use_fs=True,\n",
    "    fs=20e6,      # e.g. 1e6 表示 1MHz\n",
    ")\n",
    "# 先加载带 Mask 的骨干并对齐权重\n",
    "base_encoder = load_sit_encoder_model(em_config, signal_encoder_path)\n",
    "# 切换到无 Mask 版本并拷贝权重\n",
    "signal_encoder = SiTMAEModel(base_encoder.config)\n",
    "signal_encoder.load_state_dict(base_encoder.state_dict(), strict=False)\n",
    "signal_encoder.to(device)"
   ]
  },
  {
   "cell_type": "code",
   "execution_count": null,
   "id": "2f7b3eb8",
   "metadata": {},
   "outputs": [],
   "source": [
    "h5_paths = [\"/mnt/gold/lz/competitions/dianci/data/competition_test_data_1/test_data.h5\"]\n",
    "task_pairs = []\n",
    "for h5p in h5_paths:\n",
    "    base = os.path.splitext(os.path.basename(h5p))[0]\n",
    "    jsonp = os.path.join(task_dir, base + '.json')\n",
    "    if not os.path.exists(jsonp):\n",
    "        raise FileNotFoundError(f\"找不到对应的 JSON 文件: {jsonp}\")\n",
    "    task_pairs.append((h5p, jsonp))\n",
    "task_pairs"
   ]
  },
  {
   "cell_type": "code",
   "execution_count": null,
   "id": "0a5aa329",
   "metadata": {},
   "outputs": [],
   "source": [
    "model = MultiModalModel(signal_encoder, llm, tokenizer, use_lora=False)\n",
    "# 加载 signal_encoder，并拿到 patch_size\n",
    "patch_size = signal_encoder.config.patch_size\n",
    "# 构建 Dataset\n",
    "full_dataset = MultiModalDataset(task_pairs, tokenizer, max_length=max_length)\n",
    "collator = DynamicIQCollator(tokenizer, patch_size)"
   ]
  },
  {
   "cell_type": "code",
   "execution_count": null,
   "id": "27617f5d",
   "metadata": {},
   "outputs": [],
   "source": [
    "item = collator([full_dataset[4]])\n",
    "iq = item['iq'].to(device)  \n",
    "ids = item['input_ids'].to(device)\n",
    "mask = item['attention_mask'].to(device)\n",
    "out = model.forward(iq, ids, mask)\n",
    "pred = out.logits.argmax(dim=-1)[0]\n",
    "B, L, C = iq.shape\n",
    "P = patch_size[0]\n",
    "prefix_len = 1 + (L // P) + 1\n",
    "text_pred = pred[prefix_len:]\n",
    "tokenizer.decode(text_pred, kip_special_tokens=True).strip()"
   ]
  },
  {
   "cell_type": "code",
   "execution_count": null,
   "id": "be6b4496",
   "metadata": {},
   "outputs": [],
   "source": [
    "\n"
   ]
  }
 ],
 "metadata": {
  "kernelspec": {
   "display_name": "lz",
   "language": "python",
   "name": "python3"
  },
  "language_info": {
   "codemirror_mode": {
    "name": "ipython",
    "version": 3
   },
   "file_extension": ".py",
   "mimetype": "text/x-python",
   "name": "python",
   "nbconvert_exporter": "python",
   "pygments_lexer": "ipython3",
   "version": "3.11.8"
  }
 },
 "nbformat": 4,
 "nbformat_minor": 5
}
